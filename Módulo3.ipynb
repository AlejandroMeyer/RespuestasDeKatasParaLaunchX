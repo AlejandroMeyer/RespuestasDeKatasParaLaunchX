{
 "cells": [
  {
   "cell_type": "markdown",
   "metadata": {},
   "source": [
    "## EJERCICIO 3"
   ]
  },
  {
   "cell_type": "markdown",
   "metadata": {},
   "source": [
    "Para este ejercicio, escribirás una lógica condicional que imprima una advertencia si un asteroide se acerca a la Tierra demasiado rápido. La velocidad del asteroide varía dependiendo de lo cerca que esté del sol, y cualquier velocidad superior a 25 kilómetros por segundo (km/s) merece una advertencia.\n",
    "\n",
    "Un asteroide se acerca, y viaja a una velocidad de 49 km/s."
   ]
  },
  {
   "cell_type": "code",
   "execution_count": 21,
   "metadata": {},
   "outputs": [
    {
     "name": "stdout",
     "output_type": "stream",
     "text": [
      "PELIGRO POR VELOCIDAD DE ASTEROIDE\n"
     ]
    }
   ],
   "source": [
    "asteroide = 49\n",
    "if asteroide > 25:\n",
    "   print ('PELIGRO POR VELOCIDAD DE ASTEROIDE')\n",
    "else:\n",
    "    print ('No hay peligro')"
   ]
  },
  {
   "cell_type": "markdown",
   "metadata": {},
   "source": [
    "# Ejercicio 3.1 (VARIACIÓN)"
   ]
  },
  {
   "cell_type": "markdown",
   "metadata": {},
   "source": [
    "Con input nos permite que el usuario introduzca un número y después se ejecuta el programa. (Debemos convertir el valor a número para que el programa pueda funcionar)."
   ]
  },
  {
   "cell_type": "code",
   "execution_count": 22,
   "metadata": {},
   "outputs": [
    {
     "name": "stdout",
     "output_type": "stream",
     "text": [
      "PELIGRO POR VELOCIDAD DE ASTEROIDE\n"
     ]
    }
   ],
   "source": [
    "meteorito = int(input('ingresa la velocidad del meteorito: '))\n",
    "if meteorito > 25:\n",
    "    print('PELIGRO POR VELOCIDAD DE ASTEROIDE')\n",
    "else:\n",
    "    print('No hay peligro')"
   ]
  },
  {
   "cell_type": "markdown",
   "metadata": {},
   "source": [
    "## EJERCICIO 4"
   ]
  },
  {
   "cell_type": "markdown",
   "metadata": {},
   "source": [
    "Si un asteroide entra en la atmósfera de la Tierra a una velocidad mayor o igual a 20 km/s, a veces produce un rayo de luz que se puede ver desde la Tierra. Escribe la lógica condicional que usa declaraciones if, else, y elif para alertar a las personas de todo el mundo que deben buscar un asteroide en el cielo. ¡Hay uno que se dirige a la tierra ahora a una velocidad de 19 km/s!"
   ]
  },
  {
   "cell_type": "code",
   "execution_count": 28,
   "metadata": {},
   "outputs": [
    {
     "name": "stdout",
     "output_type": "stream",
     "text": [
      "No hay nada que ver ahora\n"
     ]
    }
   ],
   "source": [
    "velocidad_asteroide = 19\n",
    "if velocidad_asteroide > 20:\n",
    "    print('¡Mira el cielo, hay una luz!')\n",
    "elif velocidad_asteroide == 20:\n",
    "    print('¡Mira el cielo, hay una luz!')\n",
    "else:\n",
    "    print('No hay peligro')\n"
   ]
  },
  {
   "cell_type": "code",
   "execution_count": 29,
   "metadata": {},
   "outputs": [
    {
     "name": "stdout",
     "output_type": "stream",
     "text": [
      "¡Mira el cielo, hay una luz!\n"
     ]
    }
   ],
   "source": [
    "velocidad_asteroide = int(input('ingresa velocidad: '))\n",
    "if velocidad_asteroide > 20:\n",
    "    print('¡Mira el cielo, hay una luz!')\n",
    "elif velocidad_asteroide == 20:\n",
    "    print('¡Mira el cielo, hay una luz!')\n",
    "else:\n",
    "    print('No hay peligro')\n"
   ]
  },
  {
   "cell_type": "markdown",
   "metadata": {},
   "source": [
    "## EJERCICIO 5"
   ]
  },
  {
   "cell_type": "markdown",
   "metadata": {},
   "source": [
    "En este ejercicio, aprenderás información más matizada sobre cuándo los asteroides representan un peligro para la Tierra, y utilizarás esa información para mejorar nuestro sistema de advertencia. Aquí está la nueva información que necesitas saber:\n",
    "\n",
    "*Los asteroides de menos de 25 metros en su dimensión más grande probablemente se quemarán a medida que entren en la atmósfera de la Tierra.\n",
    "\n",
    "Si una pieza de un asteroide que es más grande que 25 metros pero más pequeña que 1000 metros golpeara la Tierra, causaría mucho daño.\n",
    "También discutimos en el ejercicio anterior que:\n",
    "\n",
    "La velocidad del asteroide varía en función de lo cerca que esté del sol, y cualquier velocidad superior a 25 kilómetros por segundo (km/s) merece una advertencia.\n",
    "Si un asteroide entra en la atmósfera de la Tierra a una velocidad mayor o igual a 20 km/s, a veces produce un rayo de luz que se puede ver desde la Tierra."
   ]
  },
  {
   "cell_type": "code",
   "execution_count": 46,
   "metadata": {},
   "outputs": [
    {
     "name": "stdout",
     "output_type": "stream",
     "text": [
      "Mira el cielo, hay una luz\n"
     ]
    }
   ],
   "source": [
    "tamano_asteroide = 50\n",
    "velocidad_asteroide = 25\n",
    "if tamano_asteroide > 25 and velocidad_asteroide > 25:\n",
    "    print('PELIGRO POR ASTEROIDE')\n",
    "elif velocidad_asteroide >= 20:\n",
    "    print('Mira el cielo, hay una luz')\n",
    "elif tamano_asteroide < 25:\n",
    "    print('No hay peligro')\n",
    "else:\n",
    "    print('No hay peligro')\n"
   ]
  },
  {
   "cell_type": "code",
   "execution_count": 50,
   "metadata": {},
   "outputs": [
    {
     "name": "stdout",
     "output_type": "stream",
     "text": [
      "Mira el cielo, hay una luz\n"
     ]
    }
   ],
   "source": [
    "tamano_asteroide = int(input('Ingresa tamaño del asteroide: '))\n",
    "velocidad_asteroide = int(input('Ingresa velocidad del asteroide: '))\n",
    "if tamano_asteroide > 25 and velocidad_asteroide > 25:\n",
    "    print('PELIGRO POR ASTEROIDE')\n",
    "elif velocidad_asteroide >= 20:\n",
    "    print('Mira el cielo, hay una luz')\n",
    "elif tamano_asteroide < 25:\n",
    "    print('No hay peligro')\n",
    "else:\n",
    "    print('No hay peligro')\n"
   ]
  },
  {
   "cell_type": "code",
   "execution_count": null,
   "metadata": {},
   "outputs": [],
   "source": []
  }
 ],
 "metadata": {
  "interpreter": {
   "hash": "1f8d80d535cfd832283e4e3a1095d2ce45fe6627336684f2622a1965babb2f1c"
  },
  "kernelspec": {
   "display_name": "Python 3.9.10 64-bit (windows store)",
   "language": "python",
   "name": "python3"
  },
  "language_info": {
   "codemirror_mode": {
    "name": "ipython",
    "version": 3
   },
   "file_extension": ".py",
   "mimetype": "text/x-python",
   "name": "python",
   "nbconvert_exporter": "python",
   "pygments_lexer": "ipython3",
   "version": "3.9.10"
  },
  "orig_nbformat": 4
 },
 "nbformat": 4,
 "nbformat_minor": 2
}
